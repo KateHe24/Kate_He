{
 "cells": [
  {
   "cell_type": "code",
   "execution_count": 1,
   "id": "0c5fe444",
   "metadata": {},
   "outputs": [],
   "source": [
    "import pandas as pd\n",
    "import numpy as np\n",
    "from pandas_datareader import data as wb\n",
    "\n",
    "tickers = ['PG', '^GSPC']  # PG means P&G stock in NYSE, GSPC means S&P 500 index\n",
    "data = pd.DataFrame()\n",
    "for t in tickers:\n",
    "    data[t]=wb.DataReader(t, data_source='yahoo', start='2017-1-1', end='2021-12-31')['Adj Close']"
   ]
  },
  {
   "cell_type": "code",
   "execution_count": 2,
   "id": "8f3fa96a",
   "metadata": {},
   "outputs": [],
   "source": [
    "sec_returns = np.log(data/data.shift(1))"
   ]
  },
  {
   "cell_type": "code",
   "execution_count": 3,
   "id": "92f73c8e",
   "metadata": {},
   "outputs": [
    {
     "data": {
      "text/html": [
       "<div>\n",
       "<style scoped>\n",
       "    .dataframe tbody tr th:only-of-type {\n",
       "        vertical-align: middle;\n",
       "    }\n",
       "\n",
       "    .dataframe tbody tr th {\n",
       "        vertical-align: top;\n",
       "    }\n",
       "\n",
       "    .dataframe thead th {\n",
       "        text-align: right;\n",
       "    }\n",
       "</style>\n",
       "<table border=\"1\" class=\"dataframe\">\n",
       "  <thead>\n",
       "    <tr style=\"text-align: right;\">\n",
       "      <th></th>\n",
       "      <th>PG</th>\n",
       "      <th>^GSPC</th>\n",
       "    </tr>\n",
       "  </thead>\n",
       "  <tbody>\n",
       "    <tr>\n",
       "      <th>PG</th>\n",
       "      <td>0.039989</td>\n",
       "      <td>0.022531</td>\n",
       "    </tr>\n",
       "    <tr>\n",
       "      <th>^GSPC</th>\n",
       "      <td>0.022531</td>\n",
       "      <td>0.037113</td>\n",
       "    </tr>\n",
       "  </tbody>\n",
       "</table>\n",
       "</div>"
      ],
      "text/plain": [
       "             PG     ^GSPC\n",
       "PG     0.039989  0.022531\n",
       "^GSPC  0.022531  0.037113"
      ]
     },
     "execution_count": 3,
     "metadata": {},
     "output_type": "execute_result"
    }
   ],
   "source": [
    "cov = sec_returns.cov()*250\n",
    "cov"
   ]
  },
  {
   "cell_type": "code",
   "execution_count": 4,
   "id": "5cf46295",
   "metadata": {},
   "outputs": [
    {
     "data": {
      "text/plain": [
       "0.0225308579002077"
      ]
     },
     "execution_count": 4,
     "metadata": {},
     "output_type": "execute_result"
    }
   ],
   "source": [
    "cov_with_market = cov.iloc[0,1] #extract the first row and the second column\n",
    "cov_with_market"
   ]
  },
  {
   "cell_type": "code",
   "execution_count": 7,
   "id": "21eaf509",
   "metadata": {},
   "outputs": [
    {
     "data": {
      "text/plain": [
       "0.03711323235948089"
      ]
     },
     "execution_count": 7,
     "metadata": {},
     "output_type": "execute_result"
    }
   ],
   "source": [
    "market_var = sec_returns['^GSPC'].var()*250\n",
    "market_var"
   ]
  },
  {
   "cell_type": "code",
   "execution_count": 8,
   "id": "43ac440e",
   "metadata": {},
   "outputs": [
    {
     "data": {
      "text/plain": [
       "0.607084224892419"
      ]
     },
     "execution_count": 8,
     "metadata": {},
     "output_type": "execute_result"
    }
   ],
   "source": [
    "PG_beta = cov_with_market /market_var\n",
    "PG_beta"
   ]
  },
  {
   "cell_type": "code",
   "execution_count": 11,
   "id": "2801bdbb",
   "metadata": {},
   "outputs": [],
   "source": [
    "#PG_beta < 1 means P&G stock value will not skyroket, while in times of crisis, you will loss less. "
   ]
  },
  {
   "cell_type": "markdown",
   "id": "3a31120a",
   "metadata": {},
   "source": [
    "Calculate the expected return of P&G (CAPM)"
   ]
  },
  {
   "cell_type": "markdown",
   "id": "6165e868",
   "metadata": {},
   "source": [
    "                Ri = Rf  + 𝜷im( Rm -Rf)"
   ]
  },
  {
   "cell_type": "code",
   "execution_count": 15,
   "id": "5cafdb43",
   "metadata": {},
   "outputs": [
    {
     "data": {
      "text/plain": [
       "0.05535421124462095"
      ]
     },
     "execution_count": 15,
     "metadata": {},
     "output_type": "execute_result"
    }
   ],
   "source": [
    "PG_er = 0.025 + PG_beta*0.05\n",
    "PG_er"
   ]
  },
  {
   "cell_type": "markdown",
   "id": "732d5808",
   "metadata": {},
   "source": [
    "Sharpe Ratio:\n",
    "\n",
    "STOCK: 'PG' Market: '^GSPC'\n",
    "\n",
    "              Sharpe Ratio = (Rx – Rf) / StdDev Rx"
   ]
  },
  {
   "cell_type": "code",
   "execution_count": 17,
   "id": "a47c7226",
   "metadata": {},
   "outputs": [
    {
     "data": {
      "text/plain": [
       "0.1517926624246566"
      ]
     },
     "execution_count": 17,
     "metadata": {},
     "output_type": "execute_result"
    }
   ],
   "source": [
    "Sharpe =(PG_er-0.025)/(sec_returns['PG'].std()*250**0.5)\n",
    "Sharpe"
   ]
  }
 ],
 "metadata": {
  "kernelspec": {
   "display_name": "Python 3",
   "language": "python",
   "name": "python3"
  },
  "language_info": {
   "codemirror_mode": {
    "name": "ipython",
    "version": 3
   },
   "file_extension": ".py",
   "mimetype": "text/x-python",
   "name": "python",
   "nbconvert_exporter": "python",
   "pygments_lexer": "ipython3",
   "version": "3.8.8"
  }
 },
 "nbformat": 4,
 "nbformat_minor": 5
}
